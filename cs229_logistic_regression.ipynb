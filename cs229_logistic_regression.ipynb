{
 "cells": [
  {
   "cell_type": "markdown",
   "metadata": {},
   "source": [
    "1.a.\n",
    "\n",
    "Consider the average empirical loss(the risk) for logistic regression,\n",
    "Find the Hessian $H$ of this functioin, and show that for any vector $z$, it holds true that\n",
    "$$ z^THz\\geq 0$$\n",
    "\n",
    "$$ J(\\theta) = -\\frac{1}{m}\\sum_{i=1}^m\\log(h_\\theta(y^{(i)}x^{(i)}))))$$\n",
    "\n",
    "Jacobian:\n",
    "\n",
    "$$ \\frac{\\partial{J(\\theta)}}{\\partial{\\theta_a}} = -\\frac{1}{m}\\sum_{i=1}^m \\frac{1}{g(y^{(i)}\\theta^Tx^{(i)})}\\cdot\\frac{\\partial{g(y^{(i)}\\theta^Tx^{(i)})}}{\\partial{z}}\\cdot \\frac{\\partial{z}}{\\partial{\\theta_a}}$$"
   ]
  },
  {
   "cell_type": "markdown",
   "metadata": {},
   "source": [
    "\\begin{align}\n",
    "\\frac{\\partial{J(\\theta)}}{\\partial{\\theta_a}} &= -\\frac{1}{m}\\sum_{i=1}^m \\frac{1}{g(y^{(i)}\\theta^Tx^{(i)})}\\cdot\\frac{\\partial{g(y^{(i)}\\theta^Tx^{(i)})}}{\\partial{z}}\\cdot \\frac{\\partial{z}}{\\partial{\\theta_a}} \n",
    "\\\\\n",
    "&= -\\frac{1}{m}\\sum_{i=1}^m {\\frac{1}{g(y^{(i)}\\theta^Tx^{(i)})}}\\cdot{g(y^{(i)}\\theta^Tx^{(i)})}(1-g(y^{(i)}\\theta^Tx^{(i)}))y^{(i)}x_a^{(i)}\n",
    "\\\\\n",
    "&=\\frac{1}{m}\\sum_{i=1}^m (g(y^{(i)}\\theta^Tx^{(i)})-1)y^{(i)}x_a^{(i)}\n",
    "\\end{align}"
   ]
  },
  {
   "cell_type": "markdown",
   "metadata": {},
   "source": [
    "Hessian\n",
    "\n",
    "\\begin{align}\n",
    "\\frac{\\partial{J(\\theta)}}{\\partial{\\theta_a}\\partial{\\theta_b}} &=\\frac{1}{m}\\sum_{i=1}^m (g(y^{(i)}\\theta^Tx^{(i)})-1)y^{(i)}x_a^{(i)}\n",
    "\\\\\n",
    "&=\\frac{1}{m}\\sum_{i=1}^m g(y^{(i)}\\theta^Tx^{(i)})(1-g(y^{(i)}\\theta^Tx^{(i)})){(y^{(i)})}^2x_a^{(i)}x_b^{(i)}\n",
    "\\\\\n",
    "&=\\frac{1}{m}\\sum_{i=1}^m g(y^{(i)}\\theta^Tx^{(i)})(1-g(y^{(i)}\\theta^Tx^{(i)}))x_a^{(i)}x_b^{(i)}\n",
    "\\end{align}\n",
    "\n",
    "Thus, \n",
    "$$ H = \\frac{1}{m}\\sum_{i=1}^m g(y^{(i)}\\theta^Tx^{(i)})(1-g(y^{(i)}\\theta^Tx^{(i)}))x^{(i)}{x^{(i)}}^T$$\n"
   ]
  },
  {
   "cell_type": "markdown",
   "metadata": {},
   "source": [
    "\n",
    "$$z^THz = \\frac{1}{m}\\sum_{i=1}^m g(y^{(i)}\\theta^Tx^{(i)})(1-g(y^{(i)}\\theta^Tx^{(i)}))z^Txx^Tz$$\n",
    "\n",
    "Note \n",
    "\n",
    "$$z^Txx^Tz = (z^Tx)(x^Tz) = (z^Tx)^2 \\geq 0$$\n",
    "$$H \\in \\mathbb{S}^n$$\n",
    "\n",
    "and\n",
    "\\begin{align}\n",
    "g(x) &\\in (0, 1) \n",
    "\\\\\n",
    "g(x)(1-g(x)) &\\in (0, 1)\n",
    "\\end{align}\n",
    "Thus,\n",
    "$$\\forall z, z^THz \\geq 0$$\n",
    "$$H \\succeq 0$$ "
   ]
  },
  {
   "cell_type": "markdown",
   "metadata": {},
   "source": [
    "1.b"
   ]
  },
  {
   "cell_type": "code",
   "execution_count": 1,
   "metadata": {},
   "outputs": [],
   "source": [
    "import numpy as np\n",
    "import pandas as pd\n",
    "from urllib import request\n",
    "from io import StringIO"
   ]
  },
  {
   "cell_type": "code",
   "execution_count": 2,
   "metadata": {},
   "outputs": [],
   "source": [
    "response_x = request.urlopen('http://cs229.stanford.edu/ps/ps1/logistic_x.txt')\n",
    "x = response_x.read().decode('utf-8')\n",
    "x = pd.read_csv(StringIO(x), sep='  ', header=None, engine='python')\n",
    "response_y = request.urlopen('http://cs229.stanford.edu/ps/ps1/logistic_y.txt')\n",
    "y = response_y.read().decode('utf-8')\n",
    "y = pd.read_csv(StringIO(y), header=None)"
   ]
  },
  {
   "cell_type": "code",
   "execution_count": 3,
   "metadata": {},
   "outputs": [],
   "source": [
    "x1 = x.values[:,0]\n",
    "x2 = x.values[:,1]"
   ]
  },
  {
   "cell_type": "code",
   "execution_count": 4,
   "metadata": {},
   "outputs": [],
   "source": [
    "import matplotlib.pyplot as plt  \n",
    "import seaborn as sns\n",
    "%matplotlib inline"
   ]
  },
  {
   "cell_type": "code",
   "execution_count": 5,
   "metadata": {},
   "outputs": [],
   "source": [
    "def sigmoid(x):\n",
    "    return 1/(1+np.exp(-x))"
   ]
  },
  {
   "cell_type": "code",
   "execution_count": 6,
   "metadata": {},
   "outputs": [],
   "source": [
    "x = np.column_stack((x,np.ones(x.shape[0])))"
   ]
  },
  {
   "cell_type": "code",
   "execution_count": 7,
   "metadata": {},
   "outputs": [],
   "source": [
    "w = np.zeros(3)"
   ]
  },
  {
   "cell_type": "code",
   "execution_count": 8,
   "metadata": {},
   "outputs": [
    {
     "data": {
      "text/plain": [
       "array([ 0.43509696,  0.62161752, -1.50983811])"
      ]
     },
     "execution_count": 8,
     "metadata": {},
     "output_type": "execute_result"
    }
   ],
   "source": [
    "jacobian = np.mean((sigmoid(x.dot(w).dot(y)) - 1) * y.values * x, 0)\n",
    "\n",
    "hessian = np.mean(sigmoid(x.dot(w).dot(y)) * (1 - sigmoid(x.dot(w).dot(y))) * \\\n",
    "  np.apply_along_axis(lambda x: x.reshape(3,1).dot(x.reshape(1,3)),1,x), axis=0)\n",
    "\n",
    "w = w - jacobian.dot(np.linalg.pinv(hessian))\n",
    "w"
   ]
  },
  {
   "cell_type": "code",
   "execution_count": 9,
   "metadata": {},
   "outputs": [
    {
     "data": {
      "text/plain": [
       "array([[ 4.76984544, -0.18171064,  0.98082384],\n",
       "       [-0.18171064,  0.80740309, -0.08742426],\n",
       "       [ 0.98082384, -0.08742426,  0.25      ]])"
      ]
     },
     "execution_count": 9,
     "metadata": {},
     "output_type": "execute_result"
    }
   ],
   "source": [
    "hessian"
   ]
  },
  {
   "cell_type": "code",
   "execution_count": 10,
   "metadata": {
    "scrolled": true
   },
   "outputs": [
    {
     "data": {
      "image/png": "[encoded data removed]",
      "text/plain": [
       "<Figure size 432x288 with 1 Axes>"
      ]
     },
     "metadata": {},
     "output_type": "display_data"
    }
   ],
   "source": [
    "sns.set_style('dark')\n",
    "plt.scatter(x=x1[np.squeeze((y==-1).values)], y=x2[np.squeeze((y==-1).values)], c='b')\n",
    "plt.scatter(x=x1[np.squeeze((y==1).values)], y=x2[np.squeeze((y==1).values)], c='r')\n",
    "xx1 = np.arange(0,8,0.1)\n",
    "xx2 = (-w[2]-xx1*w[0])/w[1]\n",
    "plt.plot(xx1,xx2)\n",
    "plt.xlabel('x1')\n",
    "plt.ylabel('x2')\n",
    "plt.xlim(0,8)\n",
    "plt.show()"
   ]
  },
  {
   "cell_type": "code",
   "execution_count": null,
   "metadata": {},
   "outputs": [],
   "source": []
  },
  {
   "cell_type": "code",
   "execution_count": null,
   "metadata": {},
   "outputs": [],
   "source": []
  }
 ],
 "metadata": {
  "kernelspec": {
   "display_name": "Python 3",
   "language": "python",
   "name": "python3"
  },
  "language_info": {
   "codemirror_mode": {
    "name": "ipython",
    "version": 3
   },
   "file_extension": ".py",
   "mimetype": "text/x-python",
   "name": "python",
   "nbconvert_exporter": "python",
   "pygments_lexer": "ipython3",
   "version": "3.6.5"
  }
 },
 "nbformat": 4,
 "nbformat_minor": 2
}
