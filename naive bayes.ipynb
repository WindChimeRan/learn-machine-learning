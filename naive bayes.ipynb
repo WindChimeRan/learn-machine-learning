{
 "cells": [
  {
   "cell_type": "code",
   "execution_count": 1,
   "metadata": {},
   "outputs": [],
   "source": [
    "import pandas as pd\n",
    "import numpy as np\n",
    "from io import StringIO\n",
    "from collections import Counter\n",
    "from collections import OrderedDict"
   ]
  },
  {
   "cell_type": "code",
   "execution_count": 2,
   "metadata": {},
   "outputs": [],
   "source": [
    "data = \\\n",
    "'''\n",
    "编号,色泽,根蒂,敲声,纹理,脐部,触感,密度,含糖率,好瓜\n",
    "1,青绿,蜷缩,浊响,清晰,凹陷,硬滑,0.697,0.46,好瓜\n",
    "2,乌黑,蜷缩,沉闷,清晰,凹陷,硬滑,0.774,0.376,好瓜\n",
    "3,乌黑,蜷缩,浊响,清晰,凹陷,硬滑,0.634,0.264,好瓜\n",
    "4,青绿,蜷缩,沉闷,清晰,凹陷,硬滑,0.608,0.318,好瓜\n",
    "5,浅白,蜷缩,浊响,清晰,凹陷,硬滑,0.556,0.215,好瓜\n",
    "6,青绿,稍蜷,浊响,清晰,稍凹,软粘,0.403,0.237,好瓜\n",
    "7,乌黑,稍蜷,浊响,稍糊,稍凹,软粘,0.481,0.149,好瓜\n",
    "8,乌黑,稍蜷,浊响,清晰,稍凹,硬滑,0.437,0.211,好瓜\n",
    "9,乌黑,稍蜷,沉闷,稍糊,稍凹,硬滑,0.666,0.091,坏瓜\n",
    "10,青绿,硬挺,清脆,清晰,平坦,软粘,0.243,0.267,坏瓜\n",
    "11,浅白,硬挺,清脆,模糊,平坦,硬滑,0.245,0.057,坏瓜\n",
    "12,浅白,蜷缩,浊响,模糊,平坦,软粘,0.343,0.099,坏瓜\n",
    "13,青绿,稍蜷,浊响,稍糊,凹陷,硬滑,0.639,0.161,坏瓜\n",
    "14,浅白,稍蜷,沉闷,稍糊,凹陷,硬滑,0.657,0.198,坏瓜\n",
    "15,乌黑,稍蜷,浊响,清晰,稍凹,软粘,0.36,0.37,坏瓜\n",
    "16,浅白,蜷缩,浊响,模糊,平坦,硬滑,0.593,0.042,坏瓜\n",
    "17,青绿,蜷缩,沉闷,稍糊,稍凹,硬滑,0.719,0.103,坏瓜\n",
    "'''"
   ]
  },
  {
   "cell_type": "code",
   "execution_count": 3,
   "metadata": {},
   "outputs": [],
   "source": [
    "data = pd.read_csv(StringIO(data),sep = ',')"
   ]
  },
  {
   "cell_type": "code",
   "execution_count": 4,
   "metadata": {},
   "outputs": [],
   "source": [
    "# discrete\n",
    "y = data.values[:,-1]\n",
    "x = data.values[:,1:-3]\n",
    "\n",
    "a = OrderedDict()\n",
    "for i in data.axes.pop()[1:-3]:\n",
    "    a[i] = set(data[i])"
   ]
  },
  {
   "cell_type": "code",
   "execution_count": 5,
   "metadata": {},
   "outputs": [
    {
     "data": {
      "text/plain": [
       "OrderedDict([('色泽', {'乌黑', '浅白', '青绿'}),\n",
       "             ('根蒂', {'硬挺', '稍蜷', '蜷缩'}),\n",
       "             ('敲声', {'沉闷', '浊响', '清脆'}),\n",
       "             ('纹理', {'模糊', '清晰', '稍糊'}),\n",
       "             ('脐部', {'凹陷', '平坦', '稍凹'}),\n",
       "             ('触感', {'硬滑', '软粘'})])"
      ]
     },
     "execution_count": 5,
     "metadata": {},
     "output_type": "execute_result"
    }
   ],
   "source": [
    "a"
   ]
  },
  {
   "cell_type": "code",
   "execution_count": 6,
   "metadata": {},
   "outputs": [],
   "source": [
    "test_x =['乌黑','稍蜷','沉闷','稍糊','凹陷','软粘']"
   ]
  },
  {
   "cell_type": "code",
   "execution_count": 7,
   "metadata": {},
   "outputs": [],
   "source": [
    "def naive_bayes(train_x ,train_y ,test_x):\n",
    "    \n",
    "    f = np.sum(train_y == '坏瓜')\n",
    "    t = np.sum(train_y== '好瓜')\n",
    "    p_f = f / train_y.shape[0]\n",
    "    p_t = t / train_y.shape[0]\n",
    "    p_attr_f = 1\n",
    "    p_attr_t = 1\n",
    "\n",
    "    for attr in test_x:\n",
    "        \n",
    "        p_attr_f *= np.sum(train_x[train_y == '坏瓜'] == attr) / f\n",
    "        p_attr_t *= np.sum(train_x[train_y == '好瓜'] == attr) / t\n",
    "    \n",
    "    p_test_t = p_attr_t * p_t\n",
    "    p_test_f = p_attr_f * p_f\n",
    "    \n",
    "    if p_test_t > p_test_f:\n",
    "        return '好瓜'\n",
    "    else:\n",
    "        return '坏瓜'"
   ]
  },
  {
   "cell_type": "code",
   "execution_count": 8,
   "metadata": {},
   "outputs": [
    {
     "data": {
      "text/plain": [
       "'坏瓜'"
      ]
     },
     "execution_count": 8,
     "metadata": {},
     "output_type": "execute_result"
    }
   ],
   "source": [
    "naive_bayes(x,y,test_x)"
   ]
  },
  {
   "cell_type": "code",
   "execution_count": null,
   "metadata": {},
   "outputs": [],
   "source": []
  }
 ],
 "metadata": {
  "kernelspec": {
   "display_name": "Python 3",
   "language": "python",
   "name": "python3"
  },
  "language_info": {
   "codemirror_mode": {
    "name": "ipython",
    "version": 3
   },
   "file_extension": ".py",
   "mimetype": "text/x-python",
   "name": "python",
   "nbconvert_exporter": "python",
   "pygments_lexer": "ipython3",
   "version": "3.6.5"
  }
 },
 "nbformat": 4,
 "nbformat_minor": 2
}
