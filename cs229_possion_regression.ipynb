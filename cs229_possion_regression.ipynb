{
 "cells": [
  {
   "cell_type": "markdown",
   "metadata": {},
   "source": [
    "2.a\n",
    "\n",
    "The expoential family\n",
    "$$P(y;\\eta) = b(y)\\exp(\\eta^TT(y)-a(\\eta)))$$\n",
    "\n",
    "while\n",
    "possion distribution:\n",
    "$$P(y;\\lambda) = \\frac{e^{-\\lambda}\\lambda^y}{y!}$$\n",
    "\n",
    "\\begin{align*}\n",
    "P(y;\\lambda) &= \\frac{e^{-\\lambda}\\lambda^y}{y!}\n",
    "\\\\\n",
    "&= \\frac{1}{y!}\\exp{(-\\lambda+y\\log{\\lambda})}\n",
    "\\\\\n",
    "\\end{align*}\n",
    "hence\n",
    "\\begin{align*}\n",
    "b(y) &= \\frac{1}{y!}\n",
    "\\\\\n",
    "a(\\eta) &= \\lambda\n",
    "\\\\\n",
    "T(y) &= y\n",
    "\\\\\n",
    "\\eta &= \\log{\\lambda}\n",
    "\\end{align*}\n",
    "\n",
    "2.b\n",
    "\n",
    "\\begin{align*}\n",
    "g(\\eta) &= E[T(y);\\eta]\n",
    "\\\\\n",
    "&= \\lambda\n",
    "\\\\\n",
    "&= e^{\\eta}\n",
    "\\\\\n",
    "&= e^{\\theta^Tx}\n",
    "\\end{align*}\n",
    "\n",
    "2.c\n",
    "\n",
    "\\begin{align*}\n",
    "\\log{p(y^{(i)}|x^{(i)};\\theta)} &= -\\lambda + y \\log{\\lambda} - \\log{y!}\n",
    "\\\\\n",
    "\\nabla_\\theta(\\log{p(y^{(i)}|x^{(i)};\\theta)}) &= -\\frac{\\partial\\lambda}{\\partial\\theta} +y^{(i)}\\cdot\\frac{\\partial \\log{\\lambda}}{\\partial\\theta}\n",
    "\\\\\n",
    "&=x^{(i)}(y^{(i)}-\\lambda)\n",
    "\\\\\n",
    "&=x^{(i)}(y^{(i)}-e^{\\theta^Tx})\n",
    "\\end{align*}\n",
    "then gradient ascent:\n",
    "$$\\theta = \\theta+\\alpha x^{(i)}(y^{(i)}-e^{\\theta^Tx^{(i)}})$$\n",
    "\n",
    "2.d\n",
    "\n",
    "I couldn't come up with the integration trick.\n",
    "\n",
    "see\n",
    "\n",
    "https://github.com/zyxue/stanford-cs229/blob/master/Problem-set-1/2-Poisson-regression-and-the-exponential-family.ipynb\n",
    "\n",
    "http://people.stat.sfu.ca/~raltman/stat402/402L6.pdf\n",
    "\n",
    "if you wannna know more about Poisson Regression\n",
    "\n",
    "http://data.princeton.edu/wws509/notes/c4.pdf\n"
   ]
  },
  {
   "cell_type": "markdown",
   "metadata": {},
   "source": [
    "#  The experiment below is the end of the world remained to be saved."
   ]
  },
  {
   "cell_type": "code",
   "execution_count": 1,
   "metadata": {},
   "outputs": [],
   "source": [
    "import numpy as np\n",
    "import pandas as pd\n",
    "from urllib import request\n",
    "from io import StringIO"
   ]
  },
  {
   "cell_type": "code",
   "execution_count": 42,
   "metadata": {},
   "outputs": [],
   "source": [
    "response_x = request.urlopen('http://data.princeton.edu/wws509/datasets/ceb.dat')\n",
    "data = response_x.read().decode('utf-8')"
   ]
  },
  {
   "cell_type": "code",
   "execution_count": 43,
   "metadata": {},
   "outputs": [],
   "source": [
    "data = pd.read_csv(StringIO(data), sep='\\s+',engine='python', header=0)"
   ]
  },
  {
   "cell_type": "code",
   "execution_count": 44,
   "metadata": {
    "scrolled": false
   },
   "outputs": [],
   "source": [
    "import matplotlib.pyplot as plt  \n",
    "import seaborn as sns\n",
    "%matplotlib inline\n",
    "sns.set_style('white')"
   ]
  },
  {
   "cell_type": "code",
   "execution_count": 45,
   "metadata": {},
   "outputs": [
    {
     "name": "stderr",
     "output_type": "stream",
     "text": [
      "D:\\ProgramData\\Anaconda3\\lib\\site-packages\\matplotlib\\axes\\_axes.py:6462: UserWarning: The 'normed' kwarg is deprecated, and has been replaced by the 'density' kwarg.\n",
      "  warnings.warn(\"The 'normed' kwarg is deprecated, and has been \"\n"
     ]
    },
    {
     "data": {
      "image/png": "[encoded data removed]",
      "text/plain": [
       "<Figure size 432x288 with 1 Axes>"
      ]
     },
     "metadata": {},
     "output_type": "display_data"
    }
   ],
   "source": [
    "sns.distplot(data['y'], kde=False)\n",
    "plt.xlabel('children ever born')\n",
    "plt.ylabel('frequency')\n",
    "plt.show()"
   ]
  },
  {
   "cell_type": "code",
   "execution_count": 93,
   "metadata": {
    "scrolled": true
   },
   "outputs": [],
   "source": [
    "\n",
    "# The cell number (1 to 71, cell 68 has no observations), \n",
    "# “dur” = marriage duration (1=0-4, 2=5-9, 3=10-14, 4=15-19, 5=20-24, 6=25-29), \n",
    "# “res” = residence (1=Suva, 2=Urban, 3=Rural), \n",
    "# “educ” = education (1=none, 2=lower primary, 3=upper primary, 4=secondary+), \n",
    "# “mean” = mean number of children ever born (e.g. 0.50), \n",
    "# “var” = variance of children ever born (e.g. 1.14), and \n",
    "# “n” = number of women in the cell (e.g. 8), \n",
    "# “y” = number of children ever born.\n",
    "\n",
    "# data"
   ]
  },
  {
   "cell_type": "code",
   "execution_count": 47,
   "metadata": {},
   "outputs": [],
   "source": [
    "def dur(x):\n",
    "    table = {\n",
    "        '0-4':1,\n",
    "        '5-9':2,\n",
    "        '10-14':3,\n",
    "        '15-19':4,\n",
    "        '20-24':5,\n",
    "        '25-29':6\n",
    "    }\n",
    "    return table[x]\n",
    "def res(x):\n",
    "    table = {\n",
    "        'Suva':1, \n",
    "        'urban':2,\n",
    "        'rural':3\n",
    "    }\n",
    "    return table[x]\n",
    "def educ(x):\n",
    "    table = {\n",
    "        'none':1,\n",
    "        'lower':2,\n",
    "        'upper':3,\n",
    "        'sec+':4\n",
    "    }\n",
    "    return table[x]"
   ]
  },
  {
   "cell_type": "code",
   "execution_count": 48,
   "metadata": {},
   "outputs": [],
   "source": [
    "# “dur” = marriage duration (1=0-4, 2=5-9, 3=10-14, 4=15-19, 5=20-24, 6=25-29), \n",
    "# “res” = residence (1=Suva, 2=Urban, 3=Rural), \n",
    "# “educ” = education (1=none, 2=lower primary, 3=upper primary, 4=secondary+), \n",
    "data.res = data.res.apply(res)\n",
    "data.educ = data.educ.apply(educ)\n",
    "data.dur = data.dur.apply(dur)"
   ]
  },
  {
   "cell_type": "code",
   "execution_count": 56,
   "metadata": {},
   "outputs": [],
   "source": [
    "x = data.values[:,:3]"
   ]
  },
  {
   "cell_type": "code",
   "execution_count": 61,
   "metadata": {},
   "outputs": [],
   "source": [
    "y = data.y.values"
   ]
  },
  {
   "cell_type": "code",
   "execution_count": 138,
   "metadata": {},
   "outputs": [],
   "source": [
    "w = 2 * np.random.uniform(size=(3)) - 1"
   ]
  },
  {
   "cell_type": "code",
   "execution_count": 139,
   "metadata": {},
   "outputs": [
    {
     "data": {
      "text/plain": [
       "array([ 0.92548544, -0.08437465, -0.83928428])"
      ]
     },
     "execution_count": 139,
     "metadata": {},
     "output_type": "execute_result"
    }
   ],
   "source": [
    "w"
   ]
  },
  {
   "cell_type": "code",
   "execution_count": 140,
   "metadata": {},
   "outputs": [],
   "source": [
    "learning_rate = 0.001"
   ]
  },
  {
   "cell_type": "markdown",
   "metadata": {},
   "source": [
    "$$\\theta = \\theta+\\alpha x^{(i)}(y^{(i)}-e^{\\theta^Tx^{(i)}})$$"
   ]
  },
  {
   "cell_type": "code",
   "execution_count": 142,
   "metadata": {},
   "outputs": [],
   "source": [
    "for i in range(1000):\n",
    "    w = w + np.mean(learning_rate * x * (y-np.exp(x.dot(w))).reshape(70,1),axis=0)\n",
    "    # print(np.mean(y-np.exp(x.dot(w))))"
   ]
  },
  {
   "cell_type": "markdown",
   "metadata": {},
   "source": [
    "$$P(y;\\lambda) = \\frac{e^{-\\lambda}\\lambda^y}{y!}$$"
   ]
  }
 ],
 "metadata": {
  "kernelspec": {
   "display_name": "Python 3",
   "language": "python",
   "name": "python3"
  }
 },
 "nbformat": 4,
 "nbformat_minor": 2
}
