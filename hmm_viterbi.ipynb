{
 "cells": [
  {
   "cell_type": "markdown",
   "metadata": {},
   "source": [
    "# HMM decoder!\n",
    "See [wiki](https://zh.wikipedia.org/wiki/%E7%BB%B4%E7%89%B9%E6%AF%94%E7%AE%97%E6%B3%95) first, \n",
    "\n",
    "Then we are doctors in the hospital! "
   ]
  },
  {
   "cell_type": "code",
   "execution_count": 1,
   "metadata": {},
   "outputs": [],
   "source": [
    "states = ('Healthy', 'Fever')\n",
    " \n",
    "observations = ('normal', 'cold', 'dizzy')\n",
    " \n",
    "start_probability = {'Healthy': 0.6, 'Fever': 0.4}\n",
    " \n",
    "transition_probability = {\n",
    "   'Healthy' : {'Healthy': 0.7, 'Fever': 0.3},\n",
    "   'Fever' : {'Healthy': 0.4, 'Fever': 0.6},\n",
    "   }\n",
    " \n",
    "emission_probability = {\n",
    "   'Healthy' : {'normal': 0.5, 'cold': 0.4, 'dizzy': 0.1},\n",
    "   'Fever' : {'normal': 0.1, 'cold': 0.3, 'dizzy': 0.6},\n",
    "   }"
   ]
  },
  {
   "cell_type": "markdown",
   "metadata": {},
   "source": [
    "transition_probability: $P(s_{t}|s_{t-1})$\n",
    "\n",
    "emission_probability: $P(o_{t}|s_{t})$\n",
    "\n",
    "We want $P(s_{0:t}|o_{0:t})$ \n",
    "\n",
    "or $P(s_{0:t}, o_{0:t})$ because $P(o_{0:t})$ doesn't matter.\n",
    "\n",
    "Then HOW?\n",
    "\n",
    "We can calculate every possibility of sequences, and ***arg* max** it.\n",
    "\n",
    "eg. 1\n",
    "\\begin{align}\n",
    "P(s_0, s_0, s_0 , o_0, o_1, o_2) &= P(s_0 | start) \\cdot P(o_0 | s_0) \\cdot P(s_0 | s_0) \\cdot P(o_1 | s_0) \\cdot P(s_0 | s_0) \\cdot P(o_2 | s_0) \\\\\n",
    "&=P(s_0 | start)\\cdot \\prod_{t=1}^T P(s_t|s_{t-1})P(o_{t-1}|s_{t-1})\n",
    "\\end{align}\n",
    "\n",
    "...\n",
    "\\begin{align}\n",
    "\\mathop{\\arg\\max}_s (\\pi\\cdot \\prod_{t=1}^T P(s_t|s_{t-1})P(o_{t-1}|s_{t-1}))\n",
    "\\end{align}"
   ]
  },
  {
   "cell_type": "code",
   "execution_count": 2,
   "metadata": {},
   "outputs": [
    {
     "data": {
      "text/plain": [
       "0.00588"
      ]
     },
     "execution_count": 2,
     "metadata": {},
     "output_type": "execute_result"
    }
   ],
   "source": [
    "#Healthy, Healthy, Healthy\n",
    "start_probability['Healthy'] * emission_probability['Healthy'][observations[0]]  \\\n",
    "* transition_probability['Healthy']['Healthy']* emission_probability['Healthy'][observations[1]]  \\\n",
    "* transition_probability['Healthy']['Healthy'] * emission_probability['Healthy'][observations[2]]"
   ]
  },
  {
   "cell_type": "code",
   "execution_count": 3,
   "metadata": {},
   "outputs": [
    {
     "name": "stdout",
     "output_type": "stream",
     "text": [
      "[['Healthy', 'Healthy', 'Healthy'], ['Healthy', 'Healthy', 'Fever'], ['Healthy', 'Fever', 'Healthy'], ['Healthy', 'Fever', 'Fever'], ['Fever', 'Healthy', 'Healthy'], ['Fever', 'Healthy', 'Fever'], ['Fever', 'Fever', 'Healthy']]\n",
      "------------------------------------------------------------------------------------------\n",
      "['Healthy', 'Healthy', 'Healthy'] 0.005879999999999999\n",
      "['Healthy', 'Healthy', 'Fever'] 0.015119999999999998\n",
      "['Healthy', 'Fever', 'Healthy'] 0.0010800000000000002\n",
      "['Healthy', 'Fever', 'Fever'] 0.00972\n",
      "['Fever', 'Healthy', 'Healthy'] 0.00044800000000000016\n",
      "['Fever', 'Healthy', 'Fever'] 0.0011520000000000005\n",
      "['Fever', 'Fever', 'Healthy'] 0.0002880000000000001\n"
     ]
    },
    {
     "data": {
      "text/plain": [
       "(['Healthy', 'Healthy', 'Fever'], 0.015119999999999998)"
      ]
     },
     "execution_count": 3,
     "metadata": {},
     "output_type": "execute_result"
    }
   ],
   "source": [
    "def brute_force(states, observations, start_probability, transition_probability, emission_probability):\n",
    "    \n",
    "    all_binary_s = [bin(i)[2:].zfill(3) for i in range(2**len(observations)-1)]\n",
    "    \n",
    "    all_s = []\n",
    "    for ss in all_binary_s:\n",
    "        all_s.append([states[int(s)] for s in ss])\n",
    "        \n",
    "    print(all_s)\n",
    "    print('-'*90)\n",
    "    \n",
    "    result_score = 0\n",
    "    result = None\n",
    "\n",
    "    for s in all_s:\n",
    "\n",
    "        score = start_probability[s[0]] * emission_probability[s[0]][observations[0]]\n",
    "        for t in range(0,len(observations)-1):\n",
    "            score *= transition_probability[s[t]][s[t+1]] * emission_probability[s[t+1]][observations[t+1]]\n",
    "\n",
    "        if score > result_score:\n",
    "            result_score = score\n",
    "            result = s\n",
    "        print(s, score)\n",
    "    \n",
    "    return (result, result_score)\n",
    "brute_force(states, observations, start_probability, transition_probability, emission_probability)"
   ]
  },
  {
   "cell_type": "markdown",
   "metadata": {},
   "source": [
    "But! $O(n^m)$ complexity! \n",
    "\n",
    "n - nums of observation\n",
    "\n",
    "m - len of observation\n",
    "\n",
    "# Viterbi\n",
    "\n",
    "$O(m \\cdot n^2)$\n",
    "\n",
    "the original paths of algo is a **complete binary tree**, however, there's some identical nodes which can be merged (states)\n",
    "\n",
    "path_1_hh = start -> health -> health\n",
    "\n",
    "path_1_fh = start -> fever -> health\n",
    "\n",
    "...\n",
    "\n",
    "Finally, we want an argmax, so max(path_1_hh, path_1_fh)"
   ]
  },
  {
   "cell_type": "code",
   "execution_count": 4,
   "metadata": {},
   "outputs": [
    {
     "data": {
      "text/plain": [
       "(['Healthy', 'Healthy', 'Fever'], 0.01512)"
      ]
     },
     "execution_count": 4,
     "metadata": {},
     "output_type": "execute_result"
    }
   ],
   "source": [
    "def argmax(xs):\n",
    "    m = max(xs)\n",
    "    index = xs.index(m)\n",
    "    return index, m\n",
    "\n",
    "def viterbi_decode(states, observations, start_probability, transition_probability, emission_probability):\n",
    "    \n",
    "    paths = []\n",
    "    scores = []\n",
    "    \n",
    "    # init\n",
    "    for s in states:\n",
    "        scores.append(start_probability[s] * emission_probability[s][observations[0]])\n",
    "        paths.append([s])\n",
    "    \n",
    "    for t in range(1, len(observations)):\n",
    "        new_path = []\n",
    "        new_score = []\n",
    "        for j in range(len(states)):\n",
    "            index, score = argmax([scores[i] * transition_probability[paths[i][-1]][states[j]] for i in range(len(states))])\n",
    "                \n",
    "            score *= emission_probability[states[j]][observations[t]]\n",
    "    \n",
    "            new_path.append(paths[index] + [states[j]])\n",
    "            new_score.append(score)\n",
    "      \n",
    "        paths = new_path\n",
    "        scores = new_score\n",
    "\n",
    "    index, _ = argmax(scores)\n",
    "    return paths[index], scores[index]\n",
    "\n",
    "    \n",
    "    \n",
    "viterbi_decode(states, observations, start_probability, transition_probability, emission_probability)"
   ]
  },
  {
   "cell_type": "code",
   "execution_count": null,
   "metadata": {},
   "outputs": [],
   "source": []
  },
  {
   "cell_type": "code",
   "execution_count": null,
   "metadata": {},
   "outputs": [],
   "source": []
  }
 ],
 "metadata": {
  "kernelspec": {
   "display_name": "Python 3",
   "language": "python",
   "name": "python3"
  },
  "language_info": {
   "codemirror_mode": {
    "name": "ipython",
    "version": 3
   },
   "file_extension": ".py",
   "mimetype": "text/x-python",
   "name": "python",
   "nbconvert_exporter": "python",
   "pygments_lexer": "ipython3",
   "version": "3.6.5"
  }
 },
 "nbformat": 4,
 "nbformat_minor": 2
}
